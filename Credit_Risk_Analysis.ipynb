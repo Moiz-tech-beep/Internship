{
  "nbformat": 4,
  "nbformat_minor": 0,
  "metadata": {
    "colab": {
      "provenance": []
    },
    "kernelspec": {
      "name": "python3",
      "display_name": "Python 3"
    },
    "language_info": {
      "name": "python"
    }
  },
  "cells": [
    {
      "cell_type": "code",
      "execution_count": 2,
      "metadata": {
        "colab": {
          "base_uri": "https://localhost:8080/",
          "height": 1000
        },
        "id": "azz7Fk--yvc2",
        "outputId": "df36a99f-bcb5-4d09-b790-23dc73faacb3"
      },
      "outputs": [
        {
          "output_type": "stream",
          "name": "stdout",
          "text": [
            "Dataset Overview:\n",
            "   Unnamed: 0  SeriousDlqin2yrs  RevolvingUtilizationOfUnsecuredLines  age  \\\n",
            "0           1                 1                              0.766127   45   \n",
            "1           2                 0                              0.957151   40   \n",
            "2           3                 0                              0.658180   38   \n",
            "3           4                 0                              0.233810   30   \n",
            "4           5                 0                              0.907239   49   \n",
            "\n",
            "   NumberOfTime30-59DaysPastDueNotWorse  DebtRatio  MonthlyIncome  \\\n",
            "0                                     2   0.802982         9120.0   \n",
            "1                                     0   0.121876         2600.0   \n",
            "2                                     1   0.085113         3042.0   \n",
            "3                                     0   0.036050         3300.0   \n",
            "4                                     1   0.024926        63588.0   \n",
            "\n",
            "   NumberOfOpenCreditLinesAndLoans  NumberOfTimes90DaysLate  \\\n",
            "0                             13.0                      0.0   \n",
            "1                              4.0                      0.0   \n",
            "2                              2.0                      1.0   \n",
            "3                              5.0                      0.0   \n",
            "4                              7.0                      0.0   \n",
            "\n",
            "   NumberRealEstateLoansOrLines  NumberOfTime60-89DaysPastDueNotWorse  \\\n",
            "0                           6.0                                   0.0   \n",
            "1                           0.0                                   0.0   \n",
            "2                           0.0                                   0.0   \n",
            "3                           0.0                                   0.0   \n",
            "4                           1.0                                   0.0   \n",
            "\n",
            "   NumberOfDependents  \n",
            "0                 2.0  \n",
            "1                 1.0  \n",
            "2                 0.0  \n",
            "3                 0.0  \n",
            "4                 0.0  \n",
            "Data Information:\n",
            "<class 'pandas.core.frame.DataFrame'>\n",
            "RangeIndex: 125113 entries, 0 to 125112\n",
            "Data columns (total 12 columns):\n",
            " #   Column                                Non-Null Count   Dtype  \n",
            "---  ------                                --------------   -----  \n",
            " 0   Unnamed: 0                            125113 non-null  int64  \n",
            " 1   SeriousDlqin2yrs                      125113 non-null  int64  \n",
            " 2   RevolvingUtilizationOfUnsecuredLines  125113 non-null  float64\n",
            " 3   age                                   125113 non-null  int64  \n",
            " 4   NumberOfTime30-59DaysPastDueNotWorse  125113 non-null  int64  \n",
            " 5   DebtRatio                             125113 non-null  float64\n",
            " 6   MonthlyIncome                         100310 non-null  float64\n",
            " 7   NumberOfOpenCreditLinesAndLoans       125112 non-null  float64\n",
            " 8   NumberOfTimes90DaysLate               125112 non-null  float64\n",
            " 9   NumberRealEstateLoansOrLines          125112 non-null  float64\n",
            " 10  NumberOfTime60-89DaysPastDueNotWorse  125112 non-null  float64\n",
            " 11  NumberOfDependents                    121841 non-null  float64\n",
            "dtypes: float64(8), int64(4)\n",
            "memory usage: 11.5 MB\n",
            "None\n",
            "Missing Values Count:\n",
            "Unnamed: 0                                  0\n",
            "SeriousDlqin2yrs                            0\n",
            "RevolvingUtilizationOfUnsecuredLines        0\n",
            "age                                         0\n",
            "NumberOfTime30-59DaysPastDueNotWorse        0\n",
            "DebtRatio                                   0\n",
            "MonthlyIncome                           24803\n",
            "NumberOfOpenCreditLinesAndLoans             1\n",
            "NumberOfTimes90DaysLate                     1\n",
            "NumberRealEstateLoansOrLines                1\n",
            "NumberOfTime60-89DaysPastDueNotWorse        1\n",
            "NumberOfDependents                       3272\n",
            "dtype: int64\n",
            "Class distribution:\n",
            "SeriousDlqin2yrs\n",
            "0.0    116810\n",
            "1.0      8303\n",
            "Name: count, dtype: int64\n",
            "Data preprocessing completed successfully.\n"
          ]
        },
        {
          "output_type": "execute_result",
          "data": {
            "text/plain": [
              "''"
            ],
            "application/vnd.google.colaboratory.intrinsic+json": {
              "type": "string"
            }
          },
          "metadata": {},
          "execution_count": 2
        }
      ],
      "source": [
        "\"\"# Credit Risk Analysis - Give Me Some Credit Dataset\n",
        "# Objective: Build a model to assess the creditworthiness of customers and flag high-risk customers.\n",
        "\n",
        "# Step 1: Data Preprocessing\n",
        "import pandas as pd\n",
        "from sklearn.model_selection import train_test_split\n",
        "from sklearn.impute import SimpleImputer\n",
        "from imblearn.over_sampling import SMOTE\n",
        "from sklearn.preprocessing import StandardScaler\n",
        "\n",
        "# Load the dataset\n",
        "data = pd.read_csv('/content/Give me some credit.csv')\n",
        "\n",
        "# Inspect the data\n",
        "print(\"Dataset Overview:\")\n",
        "print(data.head())\n",
        "print(\"Data Information:\")\n",
        "print(data.info())\n",
        "print(\"Missing Values Count:\")\n",
        "print(data.isnull().sum())\n",
        "\n",
        "# Handle missing values\n",
        "imputer = SimpleImputer(strategy='median')\n",
        "data_imputed = pd.DataFrame(imputer.fit_transform(data), columns=data.columns)\n",
        "\n",
        "# Check for imbalanced classes\n",
        "print(\"Class distribution:\")\n",
        "print(data_imputed['SeriousDlqin2yrs'].value_counts())\n",
        "\n",
        "# Separate features and target\n",
        "X = data_imputed.drop(columns=['SeriousDlqin2yrs'])\n",
        "y = data_imputed['SeriousDlqin2yrs']\n",
        "\n",
        "# Apply SMOTE for imbalance\n",
        "smote = SMOTE(random_state=42)\n",
        "X_resampled, y_resampled = smote.fit_resample(X, y)\n",
        "\n",
        "# Train-Test Split\n",
        "X_train, X_test, y_train, y_test = train_test_split(X_resampled, y_resampled, test_size=0.2, random_state=42)\n",
        "\n",
        "# Feature Scaling\n",
        "scaler = StandardScaler()\n",
        "X_train = scaler.fit_transform(X_train)\n",
        "X_test = scaler.transform(X_test)\n",
        "\n",
        "print(\"Data preprocessing completed successfully.\")\n",
        "\"\""
      ]
    },
    {
      "cell_type": "code",
      "source": [],
      "metadata": {
        "id": "U0MaZfHuywnS"
      },
      "execution_count": null,
      "outputs": []
    }
  ]
}